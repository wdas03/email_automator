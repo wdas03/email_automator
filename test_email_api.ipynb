{
 "cells": [
  {
   "cell_type": "code",
   "execution_count": null,
   "metadata": {},
   "outputs": [],
   "source": [
    "%load_ext autoreload\n",
    "%autoreload 2"
   ]
  },
  {
   "cell_type": "code",
   "execution_count": null,
   "metadata": {},
   "outputs": [],
   "source": [
    "from gmail_api import *\n",
    "\n",
    "gmail_api = GmailAPI(reauthenticate=False)\n",
    "\n",
    "assert gmail_api.service is not None"
   ]
  },
  {
   "cell_type": "code",
   "execution_count": null,
   "metadata": {},
   "outputs": [],
   "source": [
    "drafts_info = []\n",
    "\n",
    "drafts = gmail_api.list_drafts()\n",
    "for draft in drafts:\n",
    "    draft_id = draft['id']\n",
    "    draft_detail = gmail_api.service.users().drafts().get(userId='me', id=draft_id).execute()\n",
    "\n",
    "    drafts_info.append(draft_detail)\n",
    "\n",
    "    # Extract the MIME message body\n",
    "    mime_body = draft_detail['message']\n",
    "\n",
    "    # Extract headers\n",
    "    headers = mime_body.get('payload', {}).get('headers', [])\n",
    "    to_field = next((header['value'] for header in headers if header['name'] == 'To'), 'Unknown')\n",
    "    from_field = next((header['value'] for header in headers if header['name'] == 'From'), 'Unknown')\n",
    "    subject_field = next((header['value'] for header in headers if header['name'] == 'Subject'), 'Unknown')\n",
    "\n",
    "    print(f\"Draft ID: {draft_id}\")\n",
    "    print(f\"  To: {to_field}\")\n",
    "    print(f\"  From: {from_field}\")\n",
    "    print(f\"  Subject: {subject_field}\")\n",
    "    # print(f\"  Body: {mime_body}\")\n",
    "    print(\"=\" * 50)"
   ]
  },
  {
   "cell_type": "code",
   "execution_count": null,
   "metadata": {},
   "outputs": [],
   "source": [
    "drafts_info[0]"
   ]
  }
 ],
 "metadata": {
  "kernelspec": {
   "display_name": "ml_env",
   "language": "python",
   "name": "python3"
  },
  "language_info": {
   "codemirror_mode": {
    "name": "ipython",
    "version": 3
   },
   "file_extension": ".py",
   "mimetype": "text/x-python",
   "name": "python",
   "nbconvert_exporter": "python",
   "pygments_lexer": "ipython3",
   "version": "3.9.16"
  },
  "orig_nbformat": 4
 },
 "nbformat": 4,
 "nbformat_minor": 2
}
